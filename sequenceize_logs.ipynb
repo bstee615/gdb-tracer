{
 "cells": [
  {
   "cell_type": "code",
   "execution_count": 12,
   "metadata": {},
   "outputs": [
    {
     "name": "stdout",
     "output_type": "stream",
     "text": [
      "2835\n",
      "Error logs/c-p02256-s143083472.xml no element found: line 130, column 0\n",
      "Error logs/c-p02407-s199145526.xml not well-formed (invalid token): line 134, column 8\n",
      "Error logs/c-p02407-s211137776.xml not well-formed (invalid token): line 162, column 8\n",
      "Error logs/c-p02407-s216704067.xml not well-formed (invalid token): line 150, column 8\n",
      "Error logs/c-p02407-s985047890.xml no element found: line 151, column 0\n",
      "Error logs/c-p02971-s007487668.xml mismatched tag: line 10, column 2\n",
      "Error logs/c-p03242-s463688387.xml not well-formed (invalid token): line 57, column 10\n",
      "Error logs/c-p04030-s112171048.xml not well-formed (invalid token): line 121, column 8\n",
      "Error logs/c-p04030-s236519665.xml not well-formed (invalid token): line 224, column 10\n",
      "Error logs/c-p04030-s290932125.xml not well-formed (invalid token): line 85, column 8\n",
      "Error logs/c-p04030-s358709174.xml no element found: line 237, column 0\n",
      "Error logs/c-p04030-s360235307.xml no element found: line 156, column 0\n",
      "Error logs/c-p04030-s402056511.xml no element found: line 20, column 0\n",
      "Error logs/c-p04030-s441521621.xml no element found: line 96, column 0\n",
      "Error logs/c-p04030-s513574252.xml no element found: line 232, column 0\n",
      "Error logs/c-p04030-s518547771.xml no element found: line 156, column 0\n",
      "Error logs/c-p04030-s550241768.xml not well-formed (invalid token): line 113, column 8\n",
      "Error logs/c-p04030-s582848249.xml not well-formed (invalid token): line 155, column 8\n",
      "Error logs/c-p04030-s583595389.xml no element found: line 210, column 0\n",
      "Error logs/c-p04030-s588624626.xml no element found: line 237, column 0\n",
      "Error logs/c-p04030-s610161077.xml not well-formed (invalid token): line 147, column 8\n",
      "Error logs/c-p04030-s623412650.xml no element found: line 232, column 0\n",
      "Error logs/c-p04030-s726025415.xml no element found: line 95, column 0\n",
      "Error logs/c-p04030-s750950801.xml no element found: line 105, column 0\n",
      "Error logs/c-p04030-s758983744.xml not well-formed (invalid token): line 119, column 8\n",
      "Error logs/c-p04030-s831069535.xml not well-formed (invalid token): line 49, column 8\n",
      "Error logs/c-p04030-s908536343.xml no element found: line 196, column 0\n",
      "Error logs/c-p04030-s978060237.xml not well-formed (invalid token): line 75, column 8\n",
      "Error logs/cpp-p03242-s176202979.xml not well-formed (invalid token): line 68, column 10\n",
      "Error logs/cpp-p03242-s785592107.xml not well-formed (invalid token): line 49, column 10\n",
      "Error logs/cpp-p04030-s536136548.xml not well-formed (invalid token): line 141, column 8\n",
      "Error logs/cpp-p04030-s584015851.xml not well-formed (invalid token): line 349, column 8\n",
      "Error logs/cpp-p04030-s724429465.xml not well-formed (invalid token): line 213, column 10\n",
      "Error logs/cpp-p04030-s933246219.xml no element found: line 144, column 0\n",
      "Error logs/cpp-p04030-s952071075.xml not well-formed (invalid token): line 233, column 8\n",
      "Error logs/cpp-p04030-s964296629.xml not well-formed (invalid token): line 158, column 8\n",
      "errored=36\n"
     ]
    }
   ],
   "source": [
    "from pathlib import Path\n",
    "import xml.etree.ElementTree as ET\n",
    "\n",
    "log_dir = Path(\"logs\")\n",
    "log_files = list(sorted(log_dir.glob('*.xml')))\n",
    "print(len(log_files))\n",
    "\n",
    "errored = 0\n",
    "source_dir = Path(\"mini_Project_CodeNet\")\n",
    "for log_file in log_files:\n",
    "    try:\n",
    "        tree = ET.parse(log_file)\n",
    "        trace = tree.getroot()\n",
    "    except Exception as e:\n",
    "        errored += 1\n",
    "        print('Error', log_file, e)\n",
    "print(f'{errored=}')"
   ]
  },
  {
   "cell_type": "code",
   "execution_count": 15,
   "metadata": {},
   "outputs": [
    {
     "name": "stdout",
     "output_type": "stream",
     "text": [
      "Error logs/c-p02256-s143083472.xml no element found: line 130, column 0\n",
      "Error logs/c-p02407-s199145526.xml not well-formed (invalid token): line 134, column 8\n",
      "Error logs/c-p02407-s211137776.xml not well-formed (invalid token): line 162, column 8\n",
      "Error logs/c-p02407-s216704067.xml not well-formed (invalid token): line 150, column 8\n",
      "Error logs/c-p02407-s985047890.xml no element found: line 151, column 0\n",
      "Error logs/c-p02971-s007487668.xml mismatched tag: line 10, column 2\n",
      "Error logs/c-p03242-s463688387.xml not well-formed (invalid token): line 57, column 10\n",
      "Error logs/c-p04030-s112171048.xml not well-formed (invalid token): line 121, column 8\n",
      "Error logs/c-p04030-s236519665.xml not well-formed (invalid token): line 224, column 10\n",
      "Error logs/c-p04030-s290932125.xml not well-formed (invalid token): line 85, column 8\n",
      "Error logs/c-p04030-s358709174.xml no element found: line 237, column 0\n",
      "Error logs/c-p04030-s360235307.xml no element found: line 156, column 0\n",
      "Error logs/c-p04030-s402056511.xml no element found: line 20, column 0\n",
      "Error logs/c-p04030-s441521621.xml no element found: line 96, column 0\n",
      "Error logs/c-p04030-s513574252.xml no element found: line 232, column 0\n",
      "Error logs/c-p04030-s518547771.xml no element found: line 156, column 0\n",
      "Error logs/c-p04030-s550241768.xml not well-formed (invalid token): line 113, column 8\n",
      "Error logs/c-p04030-s582848249.xml not well-formed (invalid token): line 155, column 8\n",
      "Error logs/c-p04030-s583595389.xml no element found: line 210, column 0\n",
      "Error logs/c-p04030-s588624626.xml no element found: line 237, column 0\n",
      "Error logs/c-p04030-s610161077.xml not well-formed (invalid token): line 147, column 8\n",
      "Error logs/c-p04030-s623412650.xml no element found: line 232, column 0\n",
      "Error logs/c-p04030-s726025415.xml no element found: line 95, column 0\n",
      "Error logs/c-p04030-s750950801.xml no element found: line 105, column 0\n",
      "Error logs/c-p04030-s758983744.xml not well-formed (invalid token): line 119, column 8\n",
      "Error logs/c-p04030-s831069535.xml not well-formed (invalid token): line 49, column 8\n",
      "Error logs/c-p04030-s908536343.xml no element found: line 196, column 0\n",
      "Error logs/c-p04030-s978060237.xml not well-formed (invalid token): line 75, column 8\n",
      "Error logs/cpp-p03242-s176202979.xml not well-formed (invalid token): line 68, column 10\n",
      "Error logs/cpp-p03242-s785592107.xml not well-formed (invalid token): line 49, column 10\n",
      "Error logs/cpp-p04030-s536136548.xml not well-formed (invalid token): line 141, column 8\n",
      "Error logs/cpp-p04030-s584015851.xml not well-formed (invalid token): line 349, column 8\n",
      "Error logs/cpp-p04030-s724429465.xml not well-formed (invalid token): line 213, column 10\n",
      "Error logs/cpp-p04030-s933246219.xml no element found: line 144, column 0\n",
      "Error logs/cpp-p04030-s952071075.xml not well-formed (invalid token): line 233, column 8\n",
      "Error logs/cpp-p04030-s964296629.xml not well-formed (invalid token): line 158, column 8\n",
      "15 skipped 36 errored out\n"
     ]
    }
   ],
   "source": [
    "import xml.etree.ElementTree as ET\n",
    "\n",
    "sequences = []\n",
    "skipped = 0\n",
    "errored = 0\n",
    "\n",
    "for log_file in log_files:\n",
    "    tokens = ['<CODE>']\n",
    "\n",
    "    c_cpp, problem, solution = log_file.stem.split('-')\n",
    "    c_cpp_pathelement = 'C' if c_cpp == 'c' else 'C++'\n",
    "    source_file = source_dir / problem / c_cpp_pathelement / (solution + '.' + c_cpp)\n",
    "    with open(source_file) as f:\n",
    "        lines = f.readlines()\n",
    "    lines = [l + f'/*L{i}*/' for i, l in enumerate(lines)]\n",
    "    tokens += ''.join(lines).split()\n",
    "\n",
    "    try:\n",
    "        # Map line number to data\n",
    "        state = {}\n",
    "        output = {}\n",
    "\n",
    "        tree = ET.parse(log_file)\n",
    "        trace = tree.getroot()\n",
    "        for child in trace:\n",
    "            if child.tag == 'program_point':\n",
    "                filename = child.attrib[\"filename\"]\n",
    "                lineno = child.attrib[\"line\"]\n",
    "                state[lineno] = my_state = []\n",
    "                for variable in child:\n",
    "                    if variable.tag == 'variable':\n",
    "                        my_state.append((variable.attrib[\"name\"], variable.text))\n",
    "                    elif variable.tag == 'stdout':\n",
    "                        output[lineno] = variable.text\n",
    "            elif child.tag == 'stdout':\n",
    "                output[lineno] = child.text\n",
    "        tokens.append('<STATE>')\n",
    "        for lineno, states in state.items():\n",
    "            tokens.append(f'L{lineno}')\n",
    "            for variable in states:\n",
    "                name, text = variable\n",
    "                tokens += [name, text]\n",
    "        tokens.append('<OUTPUT>')\n",
    "        for lineno, outputs in output.items():\n",
    "            tokens.append(f'L{lineno}')\n",
    "            tokens.append('\"' + outputs.replace('\\n', '\\\\n') + '\"')\n",
    "    except Exception as e:\n",
    "        print('Error', log_file, e)\n",
    "        errored += 1\n",
    "        continue\n",
    "    tokens.append('<END>')\n",
    "\n",
    "    trunc = 100\n",
    "    tokens = [tok[:trunc] for tok in tokens]\n",
    "    \n",
    "    if (len(tokens) < 1000):\n",
    "        sequences.append(tokens)\n",
    "    else:\n",
    "        skipped += 1\n",
    "print(skipped, 'skipped', errored, 'errored out')"
   ]
  },
  {
   "cell_type": "code",
   "execution_count": 16,
   "metadata": {},
   "outputs": [
    {
     "name": "stdout",
     "output_type": "stream",
     "text": [
      "number of sequences: 2784\n",
      "average token length: 6.367056794795681\n",
      "average sequence length: 171.2216235632184\n",
      "average code length: 80.1882183908046\n",
      "average state length: 84.5959051724138\n",
      "average output length: 2.4375\n"
     ]
    }
   ],
   "source": [
    "from collections import defaultdict\n",
    "from matplotlib import pyplot as plt\n",
    "\n",
    "print('number of sequences:', len(sequences))\n",
    "seq_lengths = defaultdict(int)\n",
    "token_lengths = defaultdict(int)\n",
    "code_lengths = defaultdict(int)\n",
    "state_lengths = defaultdict(int)\n",
    "output_lengths = defaultdict(int)\n",
    "for seq in sequences:\n",
    "    seq_lengths[len(seq)] += 1\n",
    "    code_lengths[seq.index('<STATE>') - seq.index('<CODE>')-1] += 1\n",
    "    state_lengths[seq.index('<OUTPUT>') - seq.index('<STATE>')-1] += 1\n",
    "    output_lengths[seq.index('<END>') - seq.index('<OUTPUT>')-1] += 1\n",
    "    for tok in seq:\n",
    "        token_lengths[len(tok)] += 1\n",
    "\n",
    "# print(code_lengths, state_lengths, output_lengths)\n",
    "\n",
    "def get_avg(dd):\n",
    "    long = []\n",
    "    for l, f in dd.items():\n",
    "        long += [l] * f\n",
    "    return sum(long) / len(long)\n",
    "\n",
    "print('average token length:', get_avg(token_lengths))\n",
    "print('average sequence length:', get_avg(seq_lengths))\n",
    "print('average code length:', get_avg(code_lengths))\n",
    "print('average state length:', get_avg(state_lengths))\n",
    "print('average output length:', get_avg(output_lengths))"
   ]
  },
  {
   "cell_type": "code",
   "execution_count": 17,
   "metadata": {},
   "outputs": [
    {
     "data": {
      "text/plain": [
       "Text(0.5, 1.0, 'Token length (capped at 100)')"
      ]
     },
     "execution_count": 17,
     "metadata": {},
     "output_type": "execute_result"
    },
    {
     "data": {
      "image/png": "[encoded data removed]",
      "text/plain": [
       "<Figure size 432x288 with 1 Axes>"
      ]
     },
     "metadata": {
      "needs_background": "light"
     },
     "output_type": "display_data"
    }
   ],
   "source": [
    "plt.bar(token_lengths.keys(), token_lengths.values(), width=5)\n",
    "plt.xlabel('Character count')\n",
    "plt.ylabel('Frequency')\n",
    "plt.title('Token length (capped at 100)')"
   ]
  },
  {
   "cell_type": "code",
   "execution_count": 18,
   "metadata": {},
   "outputs": [
    {
     "data": {
      "text/plain": [
       "Text(0.5, 1.0, 'Sequence length (capped at 1000)')"
      ]
     },
     "execution_count": 18,
     "metadata": {},
     "output_type": "execute_result"
    },
    {
     "data": {
      "image/png": "[encoded data removed]",
      "text/plain": [
       "<Figure size 432x288 with 1 Axes>"
      ]
     },
     "metadata": {
      "needs_background": "light"
     },
     "output_type": "display_data"
    }
   ],
   "source": [
    "plt.bar(seq_lengths.keys(), seq_lengths.values(), width=10)\n",
    "plt.xlabel('Token count')\n",
    "plt.ylabel('Frequency')\n",
    "plt.title('Sequence length (capped at 1000)')"
   ]
  },
  {
   "cell_type": "code",
   "execution_count": 19,
   "metadata": {},
   "outputs": [
    {
     "data": {
      "text/plain": [
       "Text(0.5, 1.0, 'Code sequence length')"
      ]
     },
     "execution_count": 19,
     "metadata": {},
     "output_type": "execute_result"
    },
    {
     "data": {
      "image/png": "[encoded data removed]",
      "text/plain": [
       "<Figure size 432x288 with 1 Axes>"
      ]
     },
     "metadata": {
      "needs_background": "light"
     },
     "output_type": "display_data"
    }
   ],
   "source": [
    "plt.bar(code_lengths.keys(), code_lengths.values(), width=10)\n",
    "plt.xlabel('Token count')\n",
    "plt.ylabel('Frequency')\n",
    "plt.title('Code sequence length')"
   ]
  },
  {
   "cell_type": "code",
   "execution_count": 20,
   "metadata": {},
   "outputs": [
    {
     "data": {
      "text/plain": [
       "Text(0.5, 1.0, 'State sequence length')"
      ]
     },
     "execution_count": 20,
     "metadata": {},
     "output_type": "execute_result"
    },
    {
     "data": {
      "image/png": "[encoded data removed]",
      "text/plain": [
       "<Figure size 432x288 with 1 Axes>"
      ]
     },
     "metadata": {
      "needs_background": "light"
     },
     "output_type": "display_data"
    }
   ],
   "source": [
    "plt.bar(state_lengths.keys(), state_lengths.values(), width=10)\n",
    "plt.xlabel('Token count')\n",
    "plt.ylabel('Frequency')\n",
    "plt.title('State sequence length')"
   ]
  },
  {
   "cell_type": "code",
   "execution_count": 21,
   "metadata": {},
   "outputs": [
    {
     "data": {
      "text/plain": [
       "Text(0.5, 1.0, 'Output sequence length')"
      ]
     },
     "execution_count": 21,
     "metadata": {},
     "output_type": "execute_result"
    },
    {
     "data": {
      "image/png": "[encoded data removed]",
      "text/plain": [
       "<Figure size 432x288 with 1 Axes>"
      ]
     },
     "metadata": {
      "needs_background": "light"
     },
     "output_type": "display_data"
    }
   ],
   "source": [
    "plt.bar(output_lengths.keys(), output_lengths.values())\n",
    "plt.xlabel('Token count')\n",
    "plt.ylabel('Frequency')\n",
    "plt.title('Output sequence length')"
   ]
  },
  {
   "cell_type": "code",
   "execution_count": 22,
   "metadata": {},
   "outputs": [
    {
     "name": "stdout",
     "output_type": "stream",
     "text": [
      "<CODE> #include <iostream> /*L0*/#include <vector> /*L1*/#include <algorithm> /*L2*/#include <queue> /*L3*/#include <cstring> /*L4*/#include <cstdio> /*L5*/#include <cmath> /*L6*/#include <set> /*L7*/#include <map> /*L8*/#include <bitset> /*L9*/#include <deque> /*L10*/#define rep(i,n) for (int i = 0; i < (n); i++) /*L11*/using namespace std; /*L12*/using ll = long long; /*L13*/using itn = int; /*L14*/const ll MOD = 1000000007; /*L15*/const ll INF = MOD * MOD; /*L16*/ /*L17*/int main() { /*L18*/ /*L19*/ int n; /*L20*/ cin >> n; /*L21*/ /*L22*/ int ma1 = 0; /*L23*/ int ma2 = 0; /*L24*/ /*L25*/ vector<int> a(n); /*L26*/ for (int i = 0; i < n; i++) { /*L27*/ cin >> a[i]; /*L28*/ if (ma1 < a[i]) ma1 = a[i]; /*L29*/ if (ma2 < a[i]) /*L30*/ if (ma1 >= a[i]) ma2 = a[i]; /*L31*/ } /*L32*/ /*L33*/ int tmp = 0; /*L34*/ /*L35*/ for (int i = 0; i < n; i++) { /*L36*/ tmp = 0; /*L37*/ if(a[i] != ma1) cout << ma1 << endl; /*L38*/ else cout << ma2 << endl; /*L39*/ } /*L40*/ /*L41*/ return 0; /*L42*/ /*L43*/ /*L44*/ /*L45*/ /*L46*/ /*L47*/}/*L48*/ <STATE> L19 n -179993293 ma1 22088 ma2 2 a std::vector of length -11270220176554, capacity -34988058329074 = {0, 0, 0, 0, 0, 0, 0, 0, 0, 0, 0,  tmp 22088 MOD 1000000007 INF 1000000014000000049 L22 n -179993293 ma1 22088 ma2 2 a std::vector of length -11270220176554, capacity -34988058329074 = {0, 0, 0, 0, 0, 0, 0, 0, 0, 0, 0,  tmp 22088 MOD 1000000007 INF 1000000014000000049 L24 n 3 ma1 22088 ma2 2 a std::vector of length -11270220176554, capacity -34988058329074 = {0, 0, 0, 0, 0, 0, 0, 0, 0, 0, 0,  tmp 22088 MOD 1000000007 INF 1000000014000000049 L25 n 3 ma1 0 ma2 2 a std::vector of length -11270220176554, capacity -34988058329074 = {0, 0, 0, 0, 0, 0, 0, 0, 0, 0, 0,  tmp 22088 MOD 1000000007 INF 1000000014000000049 L27 n 3 ma1 4 ma2 4 a std::vector of length 3, capacity 3 = {1, 4, 3} tmp 0 MOD 1000000007 INF 1000000014000000049 L28 i 2 n 3 ma1 4 ma2 4 a std::vector of length 3, capacity 3 = {1, 4, 3} tmp 22088 MOD 1000000007 INF 1000000014000000049 L29 i 2 n 3 ma1 4 ma2 4 a std::vector of length 3, capacity 3 = {1, 4, 0} tmp 22088 MOD 1000000007 INF 1000000014000000049 L30 i 2 n 3 ma1 4 ma2 4 a std::vector of length 3, capacity 3 = {1, 4, 3} tmp 22088 MOD 1000000007 INF 1000000014000000049 L31 i 2 n 3 ma1 4 ma2 4 a std::vector of length 3, capacity 3 = {1, 4, 3} tmp 22088 MOD 1000000007 INF 1000000014000000049 L32 i 1 n 3 ma1 4 ma2 1 a std::vector of length 3, capacity 3 = {1, 4, 0} tmp 22088 MOD 1000000007 INF 1000000014000000049 L35 n 3 ma1 4 ma2 4 a std::vector of length 3, capacity 3 = {1, 4, 3} tmp 22088 MOD 1000000007 INF 1000000014000000049 L37 i 2 n 3 ma1 4 ma2 4 a std::vector of length 3, capacity 3 = {1, 4, 3} tmp 0 MOD 1000000007 INF 1000000014000000049 L38 i 2 n 3 ma1 4 ma2 4 a std::vector of length 3, capacity 3 = {1, 4, 3} tmp 0 MOD 1000000007 INF 1000000014000000049 L39 i 2 n 3 ma1 4 ma2 4 a std::vector of length 3, capacity 3 = {1, 4, 3} tmp 0 MOD 1000000007 INF 1000000014000000049 L40 i 1 n 3 ma1 4 ma2 4 a std::vector of length 3, capacity 3 = {1, 4, 3} tmp 0 MOD 1000000007 INF 1000000014000000049 L43 n 3 ma1 4 ma2 4 a std::vector of length 3, capacity 3 = {1, 4, 3} tmp 0 MOD 1000000007 INF 1000000014000000049 L49 n 3 ma1 4 ma2 4 a std::vector of length 3, capacity 3 = {0, 0, -166121456} tmp 0 MOD 1000000007 INF 1000000014000000049 <OUTPUT> L37 \"4\\n\" <END>\n",
      "\n",
      "<CODE> // include /*L0*/// ------------------------------------------------ /*L1*/#include <bits/stdc++.h> /*L2*/#include <vector> /*L3*/#include <algorithm> /*L4*/#include <math.h> /*L5*/ /*L6*/using namespace std; /*L7*/ /*L8*/// func /*L9*/// ------------------------------------------------ /*L10*/int CalcSumOfDigit(int n); // 各桁の和を計算する。 /*L11*/int getDigit(long long n); // 数字の桁数を取得する。 /*L12*/string upper(string str); // 英字を大文字に変換する。 /*L13*/string lower(string str); // 英字を小文字に変換する。 /*L14*/ /*L15*/// define /*L16*/// ------------------------------------------------ /*L17*/#define all(a) (a).begin(),(a).end() /*L18*/#define rall(a) (a).rbegin(),(a).rend() /*L19*/#define sz(a) int((a).size()) /*L20*/#define rep(i,n) for(int(i)=0;(i)<(n);(i)++) /*L21*/#define repe(i,n) for(int(i)=0;(i)<=(n);(i)++) /*L22*/#define vsort(v) sort((v).begin(),(v).end()) /*L23*/#define rvsort(v) sort(rall((v))) /*L24*/#define vi vector<int> /*L25*/#define GCD(a,b) __gcd((a),(b)) /*L26*/#define LCM(a,b) (a)/GCD((a),(b))*(b) /*L27*/#define kiriage(a,b) ((a)+(b)-1)/(b) /*L28*/ /*L29*/const int INF = 1e9; /*L30*/ /*L31*/typedef long long ll; /*L32*/typedef unsigned long long ull; /*L33*/ /*L34*/// code /*L35*/// ------------------------------------------------ /*L36*/int main() { /*L37*/ /*L38*/ ll w,h,x,y; /*L39*/ cin >> w >> h >> x >> y; /*L40*/ /*L41*/ double c_x = w / 2; /*L42*/ double c_y = h / 2; /*L43*/ /*L44*/ bool flg = false; /*L45*/ if(c_x == x && c_y == y) /*L46*/ { /*L47*/ flg = true; /*L48*/ } /*L49*/ /*L50*/ double ans = (w * h ) / 2.0; /*L51*/ /*L52*/ cout << fixed << setprecision(10) << ans << \" \" << (flg ? 1 : 0) << endl; /*L53*/ /*L54*/ /*L55*/ return 0; /*L56*/} /*L57*/// funcの実体 /*L58*/// ------------------------------------------------ /*L59*/int getDigit(ll n) /*L60*/{ /*L61*/ int i = 1; /*L62*/ while(1) /*L63*/ { /*L64*/ n = n / 10; /*L65*/ if(n == 0) /*L66*/ break; /*L67*/ i++; /*L68*/ } /*L69*/ return i; /*L70*/} /*L71*/int CalcSumOfDigit(int n) /*L72*/{ /*L73*/ int s = 0; /*L74*/ while(n) /*L75*/ { /*L76*/ s += n % 10; /*L77*/ n = n / 10; /*L78*/ } /*L79*/ return s; /*L80*/} /*L81*/ /*L82*/string upper(string str) /*L83*/{ /*L84*/ for(auto itr = str.begin();itr != str.end() ; itr++) /*L85*/ { /*L86*/ if(97 <= *itr && *itr <= 122) /*L87*/ { /*L88*/ *itr = *itr - 32; /*L89*/ } /*L90*/ } /*L91*/ return str; /*L92*/} /*L93*/ /*L94*/string lower(string str) /*L95*/{ /*L96*/ for(auto itr = str.begin();itr != str.end() ; itr++) /*L97*/ { /*L98*/ if(65 <= *itr && *itr <= 90) /*L99*/ { /*L100*/ *itr = *itr + 32; /*L101*/ } /*L102*/ } /*L103*/ return str; /*L104*/} /*L105*/ <STATE> L38 w 140727936662688 h 94368419882861 x 2 y 94368419883517 c_x 6.9310688570392986e-310 c_y 4.6624194316729716e-310 flg false ans 0 INF 1000000000 L41 w 140727936662688 h 94368419882861 x 2 y 94368419883517 c_x 6.9310688570392986e-310 c_y 4.6624194316729716e-310 flg false ans 0 INF 1000000000 L43 w 2 h 3 x 1 y 2 c_x 6.9310688570392986e-310 c_y 4.6624194316729716e-310 flg false ans 0 INF 1000000000 L44 w 2 h 3 x 1 y 2 c_x 1 c_y 4.6624194316729716e-310 flg false ans 0 INF 1000000000 L46 w 2 h 3 x 1 y 2 c_x 1 c_y 1 flg false ans 0 INF 1000000000 L47 w 2 h 3 x 1 y 2 c_x 1 c_y 1 flg false ans 0 INF 1000000000 L52 w 2 h 3 x 1 y 2 c_x 1 c_y 1 flg false ans 0 INF 1000000000 L54 w 2 h 3 x 1 y 2 c_x 1 c_y 1 flg false ans 3 INF 1000000000 L57 w 2 h 3 x 1 y 2 c_x 1 c_y 1 flg false ans 3 INF 1000000000 L58 w 2 h 3 x 1 y 2 c_x 1 c_y 1 flg false ans 3 INF 1000000000 <OUTPUT> L57 \"3.0000000000 0\\n\" <END>\n",
      "\n",
      "<CODE> #include <bits/stdc++.h> /*L0*/using namespace std; /*L1*/#define int long long int /*L2*/#define endl \"\\n\" /*L3*/const int MOD=1e9+7; /*L4*/#ifndef HOME /*L5*/#define cerr if(0)cerr /*L6*/#endif /*L7*/ /*L8*/int32_t main() { /*L9*/ ios_base::sync_with_stdio(false); /*L10*/ cin.tie(NULL); /*L11*/ int n; /*L12*/ cin>>n; /*L13*/ int a[n]; /*L14*/ int b[n]; /*L15*/ for(int i=0;i<n;i++){ /*L16*/ cin>>a[i]; /*L17*/ b[i]=a[i]; /*L18*/ } /*L19*/ sort(b,b+n); /*L20*/ int first=b[n-1]; /*L21*/ int second=b[n-1]; /*L22*/ for(int i=n-2;i>=0;i--){ /*L23*/ if(b[i]!=first){ /*L24*/ second=b[i]; /*L25*/ break; /*L26*/ } /*L27*/ } /*L28*/ for(int i=0;i<n;i++){ /*L29*/ if(a[i]==first){ /*L30*/ cout<<second<<endl; /*L31*/ }else{ /*L32*/ cout<<first<<endl; /*L33*/ } /*L34*/ } /*L35*/ /*L36*/ return 0; /*L37*/ /*L38*/} /*L39*/ /*L40*/ <STATE> L17 i 2 n 3 a {1, 4, 3} b {1, 4, 3} first 2 second 140734735224208 MOD 1000000007 L18 i 2 n 3 a {1, 4, 140734735224288} b {1, 4, 31886640} first 2 second 140734735224208 MOD 1000000007 L19 i 2 n 3 a {1, 4, 3} b {1, 4, 31886640} first 2 second 140734735224208 MOD 1000000007 L21 n 3 a {1, 4, 3} b {1, 4, 3} first 2 second 140734735224208 MOD 1000000007 L22 n 3 a {1, 4, 3} b {1, 3, 4} first 2 second 140734735224208 MOD 1000000007 L23 n 3 a {1, 4, 3} b {1, 3, 4} first 4 second 140734735224208 MOD 1000000007 L24 i 1 n 3 a {1, 4, 3} b {1, 3, 4} first 4 second 4 MOD 1000000007 L25 i 1 n 3 a {1, 4, 3} b {1, 3, 4} first 4 second 4 MOD 1000000007 L26 i 1 n 3 a {1, 4, 3} b {1, 3, 4} first 4 second 4 MOD 1000000007 L27 i 1 n 3 a {1, 4, 3} b {1, 3, 4} first 4 second 3 MOD 1000000007 L30 i 2 n 3 a {1, 4, 3} b {1, 3, 4} first 4 second 3 MOD 1000000007 L31 i 2 n 3 a {1, 4, 3} b {1, 3, 4} first 4 second 3 MOD 1000000007 L34 i 2 n 3 a {1, 4, 3} b {1, 3, 4} first 4 second 3 MOD 1000000007 L32 i 1 n 3 a {1, 4, 3} b {1, 3, 4} first 4 second 3 MOD 1000000007 L38 n 3 a {1, 4, 3} b {1, 3, 4} first 4 second 3 MOD 1000000007 L40 n 3 a {1, 4, 3} b {1, 3, 4} first 4 second 3 MOD 1000000007 <OUTPUT> L40 \"4\\n3\\n4\\n\" <END>\n",
      "\n"
     ]
    }
   ],
   "source": [
    "import random\n",
    "for i in range(3):\n",
    "    seq = random.choice(sequences)\n",
    "    print(' '.join(seq), end='\\n\\n')"
   ]
  },
  {
   "cell_type": "code",
   "execution_count": 23,
   "metadata": {},
   "outputs": [],
   "source": [
    "with open('sequences.txt', 'w') as f:\n",
    "    f.writelines([' '.join(' '.join(seq).split()) + '\\n' for seq in sequences])"
   ]
  },
  {
   "cell_type": "code",
   "execution_count": null,
   "metadata": {},
   "outputs": [],
   "source": []
  }
 ],
 "metadata": {
  "interpreter": {
   "hash": "31f2aee4e71d21fbe5cf8b01ff0e069b9275f58929596ceb00d14d90e3e16cd6"
  },
  "kernelspec": {
   "display_name": "Python 3.8.10 64-bit",
   "language": "python",
   "name": "python3"
  },
  "language_info": {
   "codemirror_mode": {
    "name": "ipython",
    "version": 3
   },
   "file_extension": ".py",
   "mimetype": "text/x-python",
   "name": "python",
   "nbconvert_exporter": "python",
   "pygments_lexer": "ipython3",
   "version": "3.8.10"
  },
  "orig_nbformat": 4
 },
 "nbformat": 4,
 "nbformat_minor": 2
}
