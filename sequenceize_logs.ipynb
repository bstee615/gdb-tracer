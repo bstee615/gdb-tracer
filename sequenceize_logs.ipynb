{
 "cells": [
  {
   "cell_type": "code",
   "execution_count": 12,
   "metadata": {},
   "outputs": [
    {
     "name": "stdout",
     "output_type": "stream",
     "text": [
      "4\n"
     ]
    }
   ],
   "source": [
    "from pathlib import Path\n",
    "import xml.etree.ElementTree as ET\n",
    "\n",
    "log_dir = Path(\"logs\")\n",
    "log_files = list(sorted(log_dir.glob('*.xml')))\n",
    "print(len(log_files))"
   ]
  },
  {
   "cell_type": "code",
   "execution_count": 53,
   "metadata": {},
   "outputs": [
    {
     "name": "stdout",
     "output_type": "stream",
     "text": [
      "0 empty 0 skipped 0 errored out 0 timed out\n"
     ]
    }
   ],
   "source": [
    "from pathlib import Path\n",
    "import xml.etree.ElementTree as ET\n",
    "import traceback\n",
    "\n",
    "source_dir = Path(\"../Project_CodeNet/mini\")\n",
    "input_dir = Path(\"../Project_CodeNet/derived/input_output/data\")\n",
    "output_dir = Path(\"outputs\")\n",
    "\n",
    "sequences = []\n",
    "skipped = 0\n",
    "errored = 0\n",
    "timedout = 0\n",
    "empty = 0\n",
    "\n",
    "for log_file in log_files:\n",
    "    sequence = {}\n",
    "\n",
    "    try:\n",
    "        lang, problem, solution = log_file.stem.split('_')\n",
    "        \n",
    "        # Add line number to each source line\n",
    "        if lang == 'c':\n",
    "            lang_pathelement = 'C'\n",
    "        elif lang == 'cpp':\n",
    "            lang_pathelement = 'C++'\n",
    "        elif lang == 'java':\n",
    "            lang_pathelement = 'Java'\n",
    "        source_file = source_dir / problem / lang_pathelement / (solution + '.' + lang)\n",
    "        with open(source_file) as f:\n",
    "            lines = f.readlines()\n",
    "        lines = [l.rstrip() + f'// L{i}' for i, l in enumerate(lines, start=1)]\n",
    "        sequence[\"src\"] = '\\n'.join(lines)\n",
    "\n",
    "        sequence[\"filepath\"] = str(source_file.relative_to(source_dir))\n",
    "\n",
    "        # Map line number to variables/values\n",
    "        output = {}\n",
    "        tree = ET.parse(log_file)\n",
    "        trace = tree.getroot()\n",
    "        if len(trace) == 0:\n",
    "            empty += 1\n",
    "        current_lineno = None\n",
    "        states = []\n",
    "        current_state = []\n",
    "        for child in trace:\n",
    "            if child.tag == 'program_point':\n",
    "                filename = child.attrib[\"filename\"]\n",
    "                lineno = int(child.attrib[\"line\"]) - 1\n",
    "                for variable in child:\n",
    "                    if variable.tag == 'variable':\n",
    "                        age = variable.attrib[\"type\"]\n",
    "                        if age in ('new', 'modified'):\n",
    "                            current_state.append((age, 'var:', variable.attrib[\"name\"], '=', variable.text))\n",
    "            if lineno != current_lineno:\n",
    "                states.append((lineno, current_state))\n",
    "                current_state = []\n",
    "            current_lineno = lineno\n",
    "        states.append((lineno, current_state))\n",
    "        state_words = []\n",
    "        for lineno, states in states:\n",
    "            if any(states):\n",
    "                state_words.append(f'L{lineno}')\n",
    "                for variable in states:\n",
    "                    state_words += variable\n",
    "        sequence[\"trace\"] = ' '.join(state_words)\n",
    "\n",
    "        # Add input and output\n",
    "        input_file = input_dir / problem / 'input.txt'\n",
    "        with open(input_file) as f:\n",
    "            sequence[\"input\"] = f.read()\n",
    "        \n",
    "        output_file = output_dir / (log_file.stem + '.txt')\n",
    "        with open(output_file) as f:\n",
    "            sequence[\"output\"] = f.read()\n",
    "\n",
    "        sequences.append(sequence)\n",
    "    except Exception:\n",
    "        print('Error', log_file)\n",
    "        traceback.print_exc()\n",
    "        errored += 1\n",
    "        continue\n",
    "print(empty, 'empty', skipped, 'skipped', errored, 'errored out', timedout, 'timed out')"
   ]
  },
  {
   "cell_type": "code",
   "execution_count": 54,
   "metadata": {},
   "outputs": [
    {
     "name": "stdout",
     "output_type": "stream",
     "text": [
      "[\n",
      "  {\n",
      "    \"src\": \"#include <iostream>// L1\\n#include <algorithm>// L2\\n#include <cstdio>// L3\\n#include <string>// L4\\n#include <sstream>// L5\\n// L6\\nusing namespace std;// L7\\n// L8\\nint main(){// L9\\n    int a, b;// L10\\n    stringstream s;// L11\\n    while(cin >> a >> b){// L12\\n    s << a + b;// L13\\n    cout << s.str().size() << endl;// L14\\n    }// L15\\n    return 0;// L16\\n}// L17\",\n",
      "    \"filepath\": \"p00002/C++/s011509553.cpp\",\n",
      "    \"trace\": \"L8 new var: a = -55208960 new var: b = -28222057 new var: s = <error> L11 modified var: s = \\\"\\\" L12 modified var: a = 5 modified var: b = 7 L13 modified var: s = \\\"12\\\" L12 modified var: a = 1 modified var: b = 99 L13 modified var: s = \\\"12100\\\" L12 modified var: a = 1000 modified var: b = 999 L13 modified var: s = \\\"121001999\\\"\",\n",
      "    \"input\": \"5 7\\n1 99\\n1000 999\\n\",\n",
      "    \"output\": \"2\\n5\\n9\\n\"\n",
      "  },\n",
      "  {\n",
      "    \"src\": \"#include<iostream>// L1\\nusing namespace std;// L2\\n// L3\\nint main(){// L4\\n\\tint count;// L5\\n\\tint num1,num2,sum;// L6\\n// L7\\n\\twhile(1){// L8\\n\\t\\tcin >> num1;// L9\\n\\t\\tif(cin.eof( ) )break;// L10\\n\\t\\tcin >> num2;// L11\\n// L12\\n\\t\\tcount = 1;// L13\\n\\t\\tsum = num1+num2;// L14\\n// L15\\n\\t\\twhile( (sum / 10) > 0){// L16\\n\\t\\t\\tsum /= 10;// L17\\n\\t\\t\\tcount++;// L18\\n\\t\\t}// L19\\n\\t\\tcout << count << endl;// L20\\n\\t}// L21\\n// L22\\n\\treturn 0;// L23\\n}// L24\",\n",
      "    \"filepath\": \"p00002/C++/s012150416.cpp\",\n",
      "    \"trace\": \"L3 new var: count = -1924921120 new var: num1 = -204205792 new var: num2 = 21949 new var: sum = 32765 L9 modified var: num1 = 5 L12 modified var: num2 = 7 L13 modified var: count = 1 L15 modified var: sum = 12 L17 modified var: sum = 1 L15 modified var: count = 2 L9 modified var: num1 = 1 L12 modified var: num2 = 99 L13 modified var: count = 1 L15 modified var: sum = 100 L17 modified var: sum = 10 L15 modified var: count = 2 L17 modified var: sum = 1 L15 modified var: count = 3 L9 modified var: num1 = 1000 L12 modified var: num2 = 999 L13 modified var: count = 1 L15 modified var: sum = 1999 L17 modified var: sum = 199 L15 modified var: count = 2 L17 modified var: sum = 19 L15 modified var: count = 3 L17 modified var: sum = 1 L15 modified var: count = 4\",\n",
      "    \"input\": \"5 7\\n1 99\\n1000 999\\n\",\n",
      "    \"output\": \"2\\n3\\n4\\n\"\n",
      "  },\n",
      "  {\n",
      "    \"src\": \"#include<iostream>// L1\\nusing namespace std;// L2\\nint main(){// L3\\n\\tint a=0,b=0;// L4\\n\\t//for(;;){// L5\\n\\t\\twhile(cin>>a>>b){// L6\\n\\t\\tif(a+b<10)cout<<\\\"1\\\"<<endl;// L7\\n\\t\\telse if(a+b<100)cout<<\\\"2\\\"<<endl;// L8\\n\\t\\telse if(a+b<1000)cout<<\\\"3\\\"<<endl;// L9\\n\\t\\telse if(a+b<10000)cout<<\\\"4\\\"<<endl;// L10\\n\\t\\telse if(a+b<100000)cout<<\\\"5\\\"<<endl;// L11\\n\\t\\telse if(a+b<1000000)cout<<\\\"6\\\"<<endl;// L12\\n\\t\\telse if(a+b<10000000)cout<<\\\"7\\\"<<endl;// L13\\n\\t\\telse if(a+b<100000000)cout<<\\\"8\\\"<<endl;// L14\\n\\t\\telse if(a+b<1000000000)cout<<\\\"9\\\"<<endl;// L15\\n\\t}// L16\\n}// L17\",\n",
      "    \"filepath\": \"p00002/C++/s040458006.cpp\",\n",
      "    \"trace\": \"L2 new var: a = -2018174576 new var: b = 32767 L5 modified var: a = 0 modified var: b = 0 L6 modified var: a = 5 modified var: b = 7 L6 modified var: a = 1 modified var: b = 99 L6 modified var: a = 1000 modified var: b = 999\",\n",
      "    \"input\": \"5 7\\n1 99\\n1000 999\\n\",\n",
      "    \"output\": \"2\\n3\\n4\\n\"\n",
      "  },\n",
      "  {\n",
      "    \"src\": \"#include<iostream>// L1\\n#include<math.h>// L2\\nusing namespace std;// L3\\nint main(){// L4\\ndouble a,b;// L5\\nwhile(cin>>a>>b){// L6\\na=a+b;// L7\\nif(a<10)cout<<\\\"1\\\"<<endl;// L8\\nelse {// L9\\nb=log10(a);// L10\\ncout<<b<<endl;// L11\\n}// L12\\n}// L13\\nreturn 0;// L14\\n}// L15\",\n",
      "    \"filepath\": \"p00002/C++/s045821312.cpp\",\n",
      "    \"trace\": \"L3 new var: a = 4.637006065089398e-310 new var: b = 6.9532197475624036e-310 L6 modified var: a = 5 modified var: b = 7 L7 modified var: a = 12 L10 modified var: b = 1.0791812460476249 L6 modified var: a = 1 modified var: b = 99 L7 modified var: a = 100 L10 modified var: b = 2 L6 modified var: a = 1000 modified var: b = 999 L7 modified var: a = 1999 L10 modified var: b = 3.3008127941181167\",\n",
      "    \"input\": \"5 7\\n1 99\\n1000 999\\n\",\n",
      "    \"output\": \"1.07918\\n2\\n3.30081\\n\"\n",
      "  }\n",
      "]\n"
     ]
    }
   ],
   "source": [
    "import json\n",
    "print(json.dumps(sequences, indent=2))"
   ]
  },
  {
   "cell_type": "code",
   "execution_count": 15,
   "metadata": {},
   "outputs": [],
   "source": [
    "with open('sequences_c_cpp.json', 'w') as f:\n",
    "    for sequence in sequences:\n",
    "        json.dump(sequence, f)\n",
    "        f.write('\\n')"
   ]
  }
 ],
 "metadata": {
  "interpreter": {
   "hash": "31f2aee4e71d21fbe5cf8b01ff0e069b9275f58929596ceb00d14d90e3e16cd6"
  },
  "kernelspec": {
   "display_name": "Python 3.8.10 64-bit",
   "language": "python",
   "name": "python3"
  },
  "language_info": {
   "codemirror_mode": {
    "name": "ipython",
    "version": 3
   },
   "file_extension": ".py",
   "mimetype": "text/x-python",
   "name": "python",
   "nbconvert_exporter": "python",
   "pygments_lexer": "ipython3",
   "version": "3.8.10"
  },
  "orig_nbformat": 4
 },
 "nbformat": 4,
 "nbformat_minor": 2
}
